{
 "cells": [
  {
   "cell_type": "code",
   "execution_count": 1,
   "id": "02b938f0-4626-47ef-a2e6-89f45b31477b",
   "metadata": {},
   "outputs": [],
   "source": [
    "import os\n",
    "import cv2\n",
    "import numpy as np\n",
    "from sklearn.model_selection import train_test_split"
   ]
  },
  {
   "cell_type": "code",
   "execution_count": 5,
   "id": "e063e7f1-aa25-4176-bb66-030786983cf0",
   "metadata": {},
   "outputs": [],
   "source": [
    "# ========= 🛠️ CONFIG =========\n",
    "image_folder = '..\\data\\processed\\cropped_lids'  # change if needed\n",
    "save_folder = '..\\data\\processed\\Dataset_365'\n",
    "img_size = (128, 128)  # resize target"
   ]
  },
  {
   "cell_type": "code",
   "execution_count": 7,
   "id": "c6d401b4-1294-4333-8367-b964bf418774",
   "metadata": {},
   "outputs": [
    {
     "name": "stdout",
     "output_type": "stream",
     "text": [
      "✅ Loaded 1859 images.\n"
     ]
    }
   ],
   "source": [
    "# ========= 📥 Load & Label =========\n",
    "images = []\n",
    "labels = []\n",
    "\n",
    "for fname in os.listdir(image_folder):\n",
    "    if fname.lower().endswith(('.jpg', '.jpeg', '.png')):\n",
    "        full_path = os.path.join(image_folder, fname)\n",
    "\n",
    "        # Labeling: 'intact' => 0, 'damaged' => 1\n",
    "        if 'intact' in fname:\n",
    "            label = 0\n",
    "        elif 'damaged' in fname:\n",
    "            label = 1\n",
    "        else:\n",
    "            continue  # skip unknown label types\n",
    "\n",
    "        img = cv2.imread(full_path, cv2.IMREAD_COLOR)\n",
    "        if img is None:\n",
    "            print(f\"⚠️ Could not read {fname}, skipping.\")\n",
    "            continue\n",
    "\n",
    "        # Resize to common shape\n",
    "        img = cv2.resize(img, img_size)\n",
    "\n",
    "        images.append(img)\n",
    "        labels.append(label)\n",
    "\n",
    "print(f\"✅ Loaded {len(images)} images.\")"
   ]
  },
  {
   "cell_type": "code",
   "execution_count": 9,
   "id": "3de88db7-f4cf-41c3-8c04-9dd56c541bd2",
   "metadata": {},
   "outputs": [],
   "source": [
    "# ========= 🧮 Convert to NumPy =========\n",
    "X = np.array(images, dtype=np.float32) / 255.0  # normalize to [0, 1]\n",
    "y = np.array(labels, dtype=np.uint8)"
   ]
  },
  {
   "cell_type": "code",
   "execution_count": 11,
   "id": "6efe2f71-af12-4e79-9bd7-317fc2547ec9",
   "metadata": {},
   "outputs": [],
   "source": [
    "# ========= ✂️ Split =========\n",
    "X_train, X_temp, y_train, y_temp = train_test_split(X, y, test_size=0.3, stratify=y, random_state=42)\n",
    "X_val, X_test, y_val, y_test = train_test_split(X_temp, y_temp, test_size=0.5, stratify=y_temp, random_state=42)"
   ]
  },
  {
   "cell_type": "code",
   "execution_count": 13,
   "id": "e50b1275-7b11-4942-9264-bef6d629b616",
   "metadata": {},
   "outputs": [
    {
     "name": "stdout",
     "output_type": "stream",
     "text": [
      "📊 Shapes: Train=(1301, 128, 128, 3), Val=(279, 128, 128, 3), Test=(279, 128, 128, 3)\n"
     ]
    }
   ],
   "source": [
    "print(f\"📊 Shapes: Train={X_train.shape}, Val={X_val.shape}, Test={X_test.shape}\")"
   ]
  },
  {
   "cell_type": "code",
   "execution_count": 15,
   "id": "3221b003-50ca-438d-b26c-9c50be922cff",
   "metadata": {},
   "outputs": [
    {
     "name": "stdout",
     "output_type": "stream",
     "text": [
      "🎉 All datasets saved to: ..\\data\\processed\\Dataset_365\n"
     ]
    }
   ],
   "source": [
    "# ========= 💾 Save =========\n",
    "os.makedirs(save_folder, exist_ok=True)\n",
    "\n",
    "np.savez_compressed(f\"{save_folder}/jarlid_train.npz\", X=X_train, y=y_train)\n",
    "np.savez_compressed(f\"{save_folder}/jarlid_val.npz\", X=X_val, y=y_val)\n",
    "np.savez_compressed(f\"{save_folder}/jarlid_test.npz\", X=X_test, y=y_test)\n",
    "\n",
    "print(\"🎉 All datasets saved to:\", save_folder)"
   ]
  },
  {
   "cell_type": "code",
   "execution_count": null,
   "id": "1298596d-d741-4d31-9a50-fb1dd4888b6f",
   "metadata": {},
   "outputs": [],
   "source": []
  }
 ],
 "metadata": {
  "kernelspec": {
   "display_name": "Python 3 (ipykernel)",
   "language": "python",
   "name": "python3"
  },
  "language_info": {
   "codemirror_mode": {
    "name": "ipython",
    "version": 3
   },
   "file_extension": ".py",
   "mimetype": "text/x-python",
   "name": "python",
   "nbconvert_exporter": "python",
   "pygments_lexer": "ipython3",
   "version": "3.11.9"
  }
 },
 "nbformat": 4,
 "nbformat_minor": 5
}
