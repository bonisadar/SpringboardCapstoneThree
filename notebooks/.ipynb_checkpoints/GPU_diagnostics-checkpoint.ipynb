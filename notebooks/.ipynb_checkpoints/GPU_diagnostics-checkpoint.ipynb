{
 "cells": [
  {
   "cell_type": "markdown",
   "id": "d562ef4c-7b79-47b4-a83b-517d9ce1bbf0",
   "metadata": {},
   "source": [
    " Here's a fully upgraded GPU diagnostic setup, now with:\n",
    "\n",
    "✅ TensorFlow dynamic GPU memory allocation\n",
    "\n",
    "📊 Logging of GPU name, total, used, and free memory using nvidia-smi (if available)"
   ]
  },
  {
   "cell_type": "code",
   "execution_count": 1,
   "id": "e3240a5d-2b6d-4a05-a321-730b02cf3ae8",
   "metadata": {},
   "outputs": [
    {
     "name": "stderr",
     "output_type": "stream",
     "text": [
      "2025-05-09 23:14:08.055061: E external/local_xla/xla/stream_executor/cuda/cuda_fft.cc:467] Unable to register cuFFT factory: Attempting to register factory for plugin cuFFT when one has already been registered\n",
      "WARNING: All log messages before absl::InitializeLog() is called are written to STDERR\n",
      "E0000 00:00:1746810848.066133   11874 cuda_dnn.cc:8579] Unable to register cuDNN factory: Attempting to register factory for plugin cuDNN when one has already been registered\n",
      "E0000 00:00:1746810848.069043   11874 cuda_blas.cc:1407] Unable to register cuBLAS factory: Attempting to register factory for plugin cuBLAS when one has already been registered\n",
      "W0000 00:00:1746810848.077142   11874 computation_placer.cc:177] computation placer already registered. Please check linkage and avoid linking the same target more than once.\n",
      "W0000 00:00:1746810848.077151   11874 computation_placer.cc:177] computation placer already registered. Please check linkage and avoid linking the same target more than once.\n",
      "W0000 00:00:1746810848.077153   11874 computation_placer.cc:177] computation placer already registered. Please check linkage and avoid linking the same target more than once.\n",
      "W0000 00:00:1746810848.077154   11874 computation_placer.cc:177] computation placer already registered. Please check linkage and avoid linking the same target more than once.\n",
      "2025-05-09 23:14:08.080622: I tensorflow/core/platform/cpu_feature_guard.cc:210] This TensorFlow binary is optimized to use available CPU instructions in performance-critical operations.\n",
      "To enable the following instructions: AVX2 FMA, in other operations, rebuild TensorFlow with the appropriate compiler flags.\n"
     ]
    }
   ],
   "source": [
    "import tensorflow as tf\n",
    "import subprocess\n",
    "import re\n",
    "\n",
    "def configure_dynamic_gpu_memory_and_log():\n",
    "    print(\"🔍 Checking for available GPUs...\")\n",
    "    gpus = tf.config.experimental.list_physical_devices('GPU')\n",
    "\n",
    "    if not gpus:\n",
    "        print(\"🚫 No GPU found. Running on CPU.\")\n",
    "        return\n",
    "\n",
    "    try:\n",
    "        for gpu in gpus:\n",
    "            tf.config.experimental.set_memory_growth(gpu, True)\n",
    "            print(f\"✅ Enabled dynamic memory growth on: {gpu.name}\")\n",
    "        logical_gpus = tf.config.experimental.list_logical_devices('GPU')\n",
    "        print(f\"🧠 {len(gpus)} Physical GPU(s), {len(logical_gpus)} Logical GPU(s) configured.\")\n",
    "\n",
    "        # Optional: Print memory stats using nvidia-smi\n",
    "        print(\"\\n📊 GPU Memory Usage:\")\n",
    "        result = subprocess.run(['nvidia-smi'], stdout=subprocess.PIPE, stderr=subprocess.PIPE, text=True)\n",
    "        print(result.stdout)\n",
    "    except RuntimeError as e:\n",
    "        print(\"⚠️ RuntimeError: Could not set memory growth. Maybe the GPU is already initialized?\")\n",
    "        print(\"Details:\", e)\n",
    "    except FileNotFoundError:\n",
    "        print(\"🛑 'nvidia-smi' not found. Is the NVIDIA driver installed inside your WSL/Ubuntu?\")"
   ]
  },
  {
   "cell_type": "markdown",
   "id": "f4d35fdf-4b25-47fb-bc10-bf61e26a4a9b",
   "metadata": {},
   "source": [
    "# Output example\n",
    "🔍 Checking for available GPUs...\n",
    "✅ Enabled dynamic memory growth on: /physical_device:GPU:0\n",
    "🧠 1 Physical GPU(s), 1 Logical GPU(s) configured.\n",
    "\n",
    "📊 GPU Memory Usage:\n",
    "+-----------------------------------------------------------------------------+\n",
    "| NVIDIA-SMI 550.54.14    Driver Version: ...                                |\n",
    "| GPU Name        Persistence-M| Bus-Id        Disp.A | Volatile Uncorr. ECC |\n",
    "| 0  NVIDIA RTX 3060       Off  | ...                                     Off |\n",
    "|    FB Memory Usage:  Used: 1234 MiB / 8192 MiB                             |\n",
    "+-----------------------------------------------------------------------------+"
   ]
  },
  {
   "cell_type": "code",
   "execution_count": null,
   "id": "98d09a03-b6e7-4c1a-9f22-91242bdac613",
   "metadata": {},
   "outputs": [],
   "source": []
  }
 ],
 "metadata": {
  "kernelspec": {
   "display_name": "Python 3 (ipykernel)",
   "language": "python",
   "name": "python3"
  },
  "language_info": {
   "codemirror_mode": {
    "name": "ipython",
    "version": 3
   },
   "file_extension": ".py",
   "mimetype": "text/x-python",
   "name": "python",
   "nbconvert_exporter": "python",
   "pygments_lexer": "ipython3",
   "version": "3.12.9"
  }
 },
 "nbformat": 4,
 "nbformat_minor": 5
}
