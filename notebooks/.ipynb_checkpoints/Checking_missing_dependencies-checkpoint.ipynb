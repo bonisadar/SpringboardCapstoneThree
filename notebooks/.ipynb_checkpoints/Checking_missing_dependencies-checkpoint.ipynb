{
 "cells": [
  {
   "cell_type": "code",
   "execution_count": 1,
   "id": "22dc1652-7490-4e5d-8632-10b402fc1d0e",
   "metadata": {},
   "outputs": [],
   "source": [
    "import importlib"
   ]
  },
  {
   "cell_type": "code",
   "execution_count": 2,
   "id": "fc93b552-32b4-4e05-8530-c2a78441872f",
   "metadata": {},
   "outputs": [
    {
     "name": "stderr",
     "output_type": "stream",
     "text": [
      "2025-05-08 07:13:35.330198: E external/local_xla/xla/stream_executor/cuda/cuda_fft.cc:467] Unable to register cuFFT factory: Attempting to register factory for plugin cuFFT when one has already been registered\n",
      "WARNING: All log messages before absl::InitializeLog() is called are written to STDERR\n",
      "E0000 00:00:1746666815.400047     653 cuda_dnn.cc:8579] Unable to register cuDNN factory: Attempting to register factory for plugin cuDNN when one has already been registered\n",
      "E0000 00:00:1746666815.420800     653 cuda_blas.cc:1407] Unable to register cuBLAS factory: Attempting to register factory for plugin cuBLAS when one has already been registered\n",
      "W0000 00:00:1746666815.571228     653 computation_placer.cc:177] computation placer already registered. Please check linkage and avoid linking the same target more than once.\n",
      "W0000 00:00:1746666815.571247     653 computation_placer.cc:177] computation placer already registered. Please check linkage and avoid linking the same target more than once.\n",
      "W0000 00:00:1746666815.571248     653 computation_placer.cc:177] computation placer already registered. Please check linkage and avoid linking the same target more than once.\n",
      "W0000 00:00:1746666815.571249     653 computation_placer.cc:177] computation placer already registered. Please check linkage and avoid linking the same target more than once.\n",
      "2025-05-08 07:13:35.589517: I tensorflow/core/platform/cpu_feature_guard.cc:210] This TensorFlow binary is optimized to use available CPU instructions in performance-critical operations.\n",
      "To enable the following instructions: AVX2 FMA, in other operations, rebuild TensorFlow with the appropriate compiler flags.\n",
      "/home/bonisadar/miniconda3/envs/tensorflow/lib/python3.12/site-packages/requests/__init__.py:86: RequestsDependencyWarning: Unable to find acceptable character detection dependency (chardet or charset_normalizer).\n",
      "  warnings.warn(\n"
     ]
    },
    {
     "name": "stdout",
     "output_type": "stream",
     "text": [
      "Missing modules:\n",
      " - pandas\n",
      " - seaborn\n",
      " - matplotlib.pyplot\n",
      " - sklearn.metrics\n",
      " - sklearn.model_selection\n"
     ]
    }
   ],
   "source": [
    "modules = [\n",
    "    'os', 'tensorflow', 'tensorflow.keras', 'tensorflow.keras.mixed_precision',\n",
    "    'tensorflow.keras.backend', 'tensorflow.keras.layers', 'tensorflow.keras.models',\n",
    "    'tensorflow.keras.callbacks', 'io', 'random', 'itertools', 'gc',\n",
    "    'numpy', 'pandas', 'seaborn', 'matplotlib.pyplot', 'sklearn.metrics',\n",
    "    'sklearn.model_selection'\n",
    "]\n",
    "\n",
    "missing = []\n",
    "\n",
    "for module in modules:\n",
    "    try:\n",
    "        importlib.import_module(module)\n",
    "    except ImportError:\n",
    "        missing.append(module)\n",
    "\n",
    "if missing:\n",
    "    print(\"Missing modules:\")\n",
    "    for m in missing:\n",
    "        print(f\" - {m}\")\n",
    "else:\n",
    "    print(\"All modules are installed.\")"
   ]
  },
  {
   "cell_type": "code",
   "execution_count": 2,
   "id": "23b14c53-2b9b-47d5-a912-def698103be1",
   "metadata": {},
   "outputs": [
    {
     "name": "stdout",
     "output_type": "stream",
     "text": [
      "Missing modules:\n",
      " - pandas\n",
      " - matplotlib.pyplot\n",
      " - seaborn\n",
      " - sklearn.ensemble.RandomForestClassifier\n",
      " - xgboost.XGBClassifier\n",
      " - sklearn.neighbors.KNeighborsClassifier\n",
      " - sklearn.cluster.KMeans\n",
      " - sklearn.svm.SVC\n",
      " - sklearn.model_selection.train_test_split\n",
      " - sklearn.model_selection.cross_val_score\n",
      " - sklearn.model_selection.RandomizedSearchCV\n",
      " - sklearn.model_selection.GridSearchCV\n",
      " - sklearn.metrics.accuracy_score\n",
      " - sklearn.metrics.classification_report\n",
      " - sklearn.metrics.confusion_matrix\n",
      " - sklearn.metrics.precision_score\n",
      " - sklearn.metrics.recall_score\n",
      " - sklearn.metrics.f1_score\n",
      " - sklearn.metrics.make_scorer\n",
      " - sklearn\n",
      " - sklearn.preprocessing.StandardScaler\n",
      " - sklearn.decomposition.PCA\n",
      " - sklearn.decomposition.TruncatedSVD\n",
      " - sklearn.pipeline.Pipeline\n",
      " - sklearn.feature_extraction.text.TfidfVectorizer\n"
     ]
    }
   ],
   "source": [
    "modules_to_test = [\n",
    "    \"pandas\", \"numpy\", \"pickle\", \"matplotlib.pyplot\", \"seaborn\",\n",
    "    \"sklearn.ensemble.RandomForestClassifier\", \"xgboost.XGBClassifier\",\n",
    "    \"sklearn.neighbors.KNeighborsClassifier\", \"sklearn.cluster.KMeans\", \"sklearn.svm.SVC\",\n",
    "    \"sklearn.model_selection.train_test_split\", \"sklearn.model_selection.cross_val_score\",\n",
    "    \"sklearn.model_selection.RandomizedSearchCV\", \"sklearn.model_selection.GridSearchCV\",\n",
    "    \"sklearn.metrics.accuracy_score\", \"sklearn.metrics.classification_report\",\n",
    "    \"sklearn.metrics.confusion_matrix\", \"sklearn.metrics.precision_score\",\n",
    "    \"sklearn.metrics.recall_score\", \"sklearn.metrics.f1_score\",\n",
    "    \"sklearn.metrics.make_scorer\", \"sklearn\", \"sklearn.preprocessing.StandardScaler\",\n",
    "    \"sklearn.decomposition.PCA\", \"sklearn.decomposition.TruncatedSVD\",\n",
    "    \"sklearn.pipeline.Pipeline\", \"sklearn.feature_extraction.text.TfidfVectorizer\"\n",
    "]\n",
    "\n",
    "missing = []\n",
    "\n",
    "for mod in modules_to_test:\n",
    "    try:\n",
    "        components = mod.split(\".\")\n",
    "        module = __import__(components[0])\n",
    "        for comp in components[1:]:\n",
    "            module = getattr(module, comp)\n",
    "    except (ImportError, AttributeError):\n",
    "        missing.append(mod)\n",
    "\n",
    "if missing:\n",
    "    print(\"Missing modules:\")\n",
    "    for m in missing:\n",
    "        print(\" -\", m)\n",
    "else:\n",
    "    print(\"All modules are available.\")"
   ]
  },
  {
   "cell_type": "code",
   "execution_count": null,
   "id": "08c6d0b4-3f86-4ecd-8f8d-b55b1e2e0149",
   "metadata": {},
   "outputs": [],
   "source": []
  }
 ],
 "metadata": {
  "kernelspec": {
   "display_name": "Python 3 (ipykernel)",
   "language": "python",
   "name": "python3"
  },
  "language_info": {
   "codemirror_mode": {
    "name": "ipython",
    "version": 3
   },
   "file_extension": ".py",
   "mimetype": "text/x-python",
   "name": "python",
   "nbconvert_exporter": "python",
   "pygments_lexer": "ipython3",
   "version": "3.12.9"
  }
 },
 "nbformat": 4,
 "nbformat_minor": 5
}
