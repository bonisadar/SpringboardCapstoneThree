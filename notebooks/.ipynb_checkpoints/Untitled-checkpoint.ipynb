{
 "cells": [
  {
   "cell_type": "code",
   "execution_count": null,
   "id": "387624d0-8045-45da-bc34-f27ef1e2c57d",
   "metadata": {},
   "outputs": [],
   "source": [
    "dense_units = 256\n",
    "batch_size = 256\n",
    "\n",
    "model_ed = tf.keras.Sequential([\n",
    "    tf.keras.Input(shape=(128, 128, 1)),\n",
    "    \n",
    "    tf.keras.layers.Conv2D(32, 5, padding='same', kernel_initializer='he_normal'),\n",
    "    tf.keras.layers.LeakyReLU(negative_slope=0.1),\n",
    "    tf.keras.layers.MaxPooling2D(2),\n",
    "    \n",
    "    tf.keras.layers.Conv2D(64, 5, padding='same', kernel_initializer='he_normal'),\n",
    "    tf.keras.layers.LeakyReLU(negative_slope=0.1),\n",
    "    tf.keras.layers.MaxPooling2D(2),\n",
    "    \n",
    "    tf.keras.layers.Conv2D(128, 5, padding='same', kernel_initializer='he_normal'),\n",
    "    tf.keras.layers.LeakyReLU(negative_slope=0.1),\n",
    "    tf.keras.layers.MaxPooling2D(2),\n",
    "    \n",
    "    tf.keras.layers.Flatten(),\n",
    "    tf.keras.layers.Dense(dense_units, activation='relu', kernel_initializer='he_normal'),\n",
    "    \n",
    "    tf.keras.layers.Dropout(0.3),\n",
    "    tf.keras.layers.Dense(2)  # logits\n",
    "])\n",
    "\n",
    "\n",
    "lr_schedule = tf.keras.optimizers.schedules.ExponentialDecay(\n",
    "    initial_learning_rate=0.001,\n",
    "    decay_steps=10000,\n",
    "    decay_rate=0.9\n",
    ")\n",
    "\n",
    "optimizer = tf.keras.optimizers.Adam(learning_rate=lr_schedule)\n",
    "loss_fn = tf.keras.losses.SparseCategoricalCrossentropy(from_logits=True)\n",
    "\n",
    "model_ed.compile(optimizer=optimizer, loss=loss_fn, metrics=['accuracy'])\n",
    "\n",
    "print(f\"\\nModel Summary\")\n",
    "model_ed.summary()\n",
    "\n",
    "early_stop = EarlyStopping(monitor='val_accuracy', patience=3, restore_best_weights=True)\n",
    "\n",
    "history = model_ed.fit(\n",
    "    images_train, labels_train,\n",
    "    validation_data=(images_val, labels_val),\n",
    "    epochs=50,\n",
    "    batch_size=batch_size,\n",
    "    verbose=1,\n",
    "    callbacks=[early_stop]\n",
    ")"
   ]
  },
  {
   "cell_type": "code",
   "execution_count": null,
   "id": "9aeb5b4a-38cb-442e-97cb-6a30aaa29a1a",
   "metadata": {},
   "outputs": [],
   "source": [
    "test_loss, test_acc = model_ed.evaluate(images_test, labels_test, verbose=0)\n",
    "print(f\"Accuracy: {test_acc:.4f}\")"
   ]
  }
 ],
 "metadata": {
  "kernelspec": {
   "display_name": "Python 3 (ipykernel)",
   "language": "python",
   "name": "python3"
  },
  "language_info": {
   "codemirror_mode": {
    "name": "ipython",
    "version": 3
   },
   "file_extension": ".py",
   "mimetype": "text/x-python",
   "name": "python",
   "nbconvert_exporter": "python",
   "pygments_lexer": "ipython3",
   "version": "3.12.2"
  }
 },
 "nbformat": 4,
 "nbformat_minor": 5
}
