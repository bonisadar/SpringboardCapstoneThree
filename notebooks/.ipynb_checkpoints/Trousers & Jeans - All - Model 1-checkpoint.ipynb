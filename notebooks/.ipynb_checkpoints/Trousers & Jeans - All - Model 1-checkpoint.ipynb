{
 "cells": [
  {
   "cell_type": "code",
   "execution_count": 3,
   "metadata": {},
   "outputs": [],
   "source": [
    "import io\n",
    "import itertools\n",
    "\n",
    "import numpy as np\n",
    "import sklearn.metrics\n",
    "\n",
    "import tensorflow as tf\n",
    "from tensorboard.plugins.hparams import api as hp\n",
    "\n",
    "import matplotlib.pyplot as plt"
   ]
  },
  {
   "cell_type": "code",
   "execution_count": 2,
   "metadata": {},
   "outputs": [],
   "source": [
    "# Loading the datasets\n",
    "data_train = np.load(r\"..\\data\\raw\\Full Dataset\\Trousers & Jeans - All - Train.npz\")\n",
    "data_val = np.load(r\"..\\data\\raw\\Full Dataset\\Trousers & Jeans - All - Validation.npz\")\n",
    "data_test = np.load(r\"..\\data\\raw\\Full Dataset\\Trousers & Jeans - All - Test.npz\")"
   ]
  },
  {
   "cell_type": "code",
   "execution_count": 5,
   "metadata": {},
   "outputs": [],
   "source": [
    "# Extracting the arrays from the imported data\n",
    "images_train = data_train['images']\n",
    "labels_train = data_train['labels']\n",
    "\n",
    "images_val = data_val['images']\n",
    "labels_val = data_val['labels']\n",
    "\n",
    "images_test = data_test['images']\n",
    "labels_test = data_test['labels']"
   ]
  },
  {
   "cell_type": "code",
   "execution_count": 7,
   "metadata": {},
   "outputs": [],
   "source": [
    "# Scaling the pixel values of all images \n",
    "images_train = images_train/255.0\n",
    "images_val = images_val/255.0\n",
    "images_test = images_test/255.0"
   ]
  },
  {
   "cell_type": "code",
   "execution_count": null,
   "metadata": {},
   "outputs": [],
   "source": []
  },
  {
   "cell_type": "code",
   "execution_count": 9,
   "metadata": {},
   "outputs": [],
   "source": [
    "# Defining the hyperparameters we would tune, and their values to be tested\n",
    "HP_FILTER_SIZE = hp.HParam('filter_size', hp.Discrete([3,5,7]))\n",
    "HP_FILTER_NUM = hp.HParam('filters_number', hp.Discrete([32,64,96,128]))\n",
    "\n",
    "METRIC_ACCURACY = 'accuracy'\n",
    "\n",
    "# Logging setup info\n",
    "with tf.summary.create_file_writer(r'Logs/Model 1/hparam_tuning/').as_default():\n",
    "    hp.hparams_config(\n",
    "        hparams=[HP_FILTER_SIZE, HP_FILTER_NUM],\n",
    "        metrics=[hp.Metric(METRIC_ACCURACY, display_name='Accuracy')],\n",
    "    )"
   ]
  },
  {
   "cell_type": "code",
   "execution_count": null,
   "metadata": {},
   "outputs": [],
   "source": []
  },
  {
   "cell_type": "code",
   "execution_count": 11,
   "metadata": {},
   "outputs": [],
   "source": [
    "EPOCHS = 20\n",
    "BATCH_SIZE = 64"
   ]
  },
  {
   "cell_type": "code",
   "execution_count": null,
   "metadata": {},
   "outputs": [],
   "source": []
  },
  {
   "cell_type": "code",
   "execution_count": 13,
   "metadata": {},
   "outputs": [],
   "source": [
    "# Wrapping our model and training in a function\n",
    "def train_test_model(hparams, session_num):\n",
    "    \n",
    "    # Outlining the model/architecture of our CNN\n",
    "    model = tf.keras.Sequential([\n",
    "        tf.keras.layers.Conv2D(hparams[HP_FILTER_NUM], hparams[HP_FILTER_SIZE], activation='relu', input_shape=(120,90,3)),\n",
    "        tf.keras.layers.Flatten(),\n",
    "        tf.keras.layers.Dense(4)\n",
    "    ])\n",
    "    \n",
    "    # Defining the loss function\n",
    "    loss_fn = tf.keras.losses.SparseCategoricalCrossentropy(from_logits=True)\n",
    "\n",
    "    # Compiling the model\n",
    "    model.compile(optimizer='adam', loss=loss_fn, metrics=['accuracy'])\n",
    "\n",
    "    # Defining the logging directory\n",
    "    log_dir = \"Logs\\\\Model 1\\\\fit\\\\\" + \"run-{}\".format(session_num)\n",
    "    \n",
    "    def plot_confusion_matrix(cm, class_names):\n",
    "        \"\"\"\n",
    "        Returns a matplotlib figure containing the plotted confusion matrix.\n",
    "\n",
    "        Args:\n",
    "          cm (array, shape = [n, n]): a confusion matrix of integer classes\n",
    "          class_names (array, shape = [n]): String names of the integer classes\n",
    "        \"\"\"\n",
    "        figure = plt.figure(figsize=(12, 12))\n",
    "        plt.imshow(cm, interpolation='nearest', cmap=plt.cm.Blues)\n",
    "        plt.title(\"Confusion matrix\")\n",
    "        plt.colorbar()\n",
    "        tick_marks = np.arange(len(class_names))\n",
    "        plt.xticks(tick_marks, class_names, rotation=45)\n",
    "        plt.yticks(tick_marks, class_names)\n",
    "\n",
    "        # Normalize the confusion matrix.\n",
    "        cm = np.around(cm.astype('float') / cm.sum(axis=1)[:, np.newaxis], decimals=2)\n",
    "\n",
    "        # Use white text if squares are dark; otherwise black.\n",
    "        threshold = cm.max() / 2.\n",
    "        for i, j in itertools.product(range(cm.shape[0]), range(cm.shape[1])):\n",
    "            color = \"white\" if cm[i, j] > threshold else \"black\"\n",
    "            plt.text(j, i, cm[i, j], horizontalalignment=\"center\", color=color)\n",
    "\n",
    "        plt.tight_layout()\n",
    "        plt.ylabel('True label')\n",
    "        plt.xlabel('Predicted label')\n",
    "        return figure\n",
    "    \n",
    "     \n",
    "    \n",
    "    \n",
    "    def plot_to_image(figure):\n",
    "        \"\"\"Converts the matplotlib plot specified by 'figure' to a PNG image and\n",
    "        returns it. The supplied figure is closed and inaccessible after this call.\"\"\"\n",
    "        # Save the plot to a PNG in memory.\n",
    "        buf = io.BytesIO()\n",
    "        plt.savefig(buf, format='png')\n",
    "        # Closing the figure prevents it from being displayed directly inside\n",
    "        # the notebook.\n",
    "        plt.close(figure)\n",
    "        buf.seek(0)\n",
    "        # Convert PNG buffer to TF image\n",
    "        image = tf.image.decode_png(buf.getvalue(), channels=4)\n",
    "        # Add the batch dimension\n",
    "        image = tf.expand_dims(image, 0)\n",
    "        return image\n",
    "    \n",
    "    \n",
    "    # Defining a file writer for Confusion Matrix logging purposes\n",
    "    file_writer_cm = tf.summary.create_file_writer(log_dir + '/cm') \n",
    "    \n",
    "    \n",
    "    def log_confusion_matrix(epoch, logs):\n",
    "        # Use the model to predict the values from the validation dataset.\n",
    "        test_pred_raw = model.predict(images_val)\n",
    "        test_pred = np.argmax(test_pred_raw, axis=1)\n",
    "\n",
    "        # Calculate the confusion matrix.\n",
    "        cm = sklearn.metrics.confusion_matrix(labels_val, test_pred)\n",
    "        # Log the confusion matrix as an image summary.\n",
    "        figure = plot_confusion_matrix(cm, class_names=['Trousers Male', 'Jeans Male', 'Trousers Female', \"Jeans Female\"])\n",
    "        cm_image = plot_to_image(figure)\n",
    "\n",
    "        # Log the confusion matrix as an image summary.\n",
    "        with file_writer_cm.as_default():\n",
    "            tf.summary.image(\"Confusion Matrix\", cm_image, step=epoch)\n",
    "    \n",
    "    \n",
    "    # Define the Tensorboard and Confusion Matrix callbacks.\n",
    "    tensorboard_callback = tf.keras.callbacks.TensorBoard(log_dir=log_dir, histogram_freq=1, profile_batch=0)\n",
    "    cm_callback = tf.keras.callbacks.LambdaCallback(on_epoch_end=log_confusion_matrix)\n",
    "\n",
    "    \n",
    "    # Defining early stopping to prevent overfitting\n",
    "    early_stopping = tf.keras.callbacks.EarlyStopping(\n",
    "        monitor = 'val_loss',\n",
    "        mode = 'auto',\n",
    "        min_delta = 0,\n",
    "        patience = 2,\n",
    "        verbose = 0, \n",
    "        restore_best_weights = True\n",
    "    )\n",
    "    \n",
    "    # Training the model\n",
    "    model.fit(\n",
    "        images_train,\n",
    "        labels_train,\n",
    "        epochs = EPOCHS,\n",
    "        batch_size = BATCH_SIZE,\n",
    "        callbacks = [tensorboard_callback, cm_callback, early_stopping],\n",
    "        validation_data = (images_val,labels_val),\n",
    "        verbose = 2\n",
    "    )\n",
    "    \n",
    "    # Evaluating the model's performance on the validation set\n",
    "    _, accuracy = model.evaluate(images_val,labels_val)\n",
    "    \n",
    "    # Saving the current model for future reference\n",
    "    model.save(r\"saved_models\\Model 1\\Run-{}\".format(session_num))\n",
    "    \n",
    "    return accuracy"
   ]
  },
  {
   "cell_type": "code",
   "execution_count": 15,
   "metadata": {},
   "outputs": [],
   "source": [
    "# Creating a function to log the resuls\n",
    "def run(log_dir, hparams, session_num):\n",
    "    \n",
    "    with tf.summary.create_file_writer(log_dir).as_default():\n",
    "        hp.hparams(hparams)  # record the values used in this trial\n",
    "        accuracy = train_test_model(hparams, session_num)\n",
    "        tf.summary.scalar(METRIC_ACCURACY, accuracy, step=1)"
   ]
  },
  {
   "cell_type": "code",
   "execution_count": 17,
   "metadata": {},
   "outputs": [
    {
     "name": "stdout",
     "output_type": "stream",
     "text": [
      "--- Starting trial: run-1\n",
      "{'filter_size': 3, 'filters_number': 32}\n",
      "Epoch 1/20\n",
      "16/16 [==============================] - 0s 22ms/step\n",
      "63/63 - 10s - loss: 6.0788 - accuracy: 0.3931 - val_loss: 1.1911 - val_accuracy: 0.5040 - 10s/epoch - 158ms/step\n",
      "Epoch 2/20\n",
      "16/16 [==============================] - 0s 22ms/step\n",
      "63/63 - 9s - loss: 0.9482 - accuracy: 0.6201 - val_loss: 0.9512 - val_accuracy: 0.6020 - 9s/epoch - 141ms/step\n",
      "Epoch 3/20\n",
      "16/16 [==============================] - 0s 22ms/step\n",
      "63/63 - 9s - loss: 0.7871 - accuracy: 0.6876 - val_loss: 0.9415 - val_accuracy: 0.6340 - 9s/epoch - 140ms/step\n",
      "Epoch 4/20\n",
      "16/16 [==============================] - 0s 23ms/step\n",
      "63/63 - 9s - loss: 0.7473 - accuracy: 0.7073 - val_loss: 0.9326 - val_accuracy: 0.6000 - 9s/epoch - 140ms/step\n",
      "Epoch 5/20\n",
      "16/16 [==============================] - 0s 22ms/step\n",
      "63/63 - 9s - loss: 0.6381 - accuracy: 0.7488 - val_loss: 0.9307 - val_accuracy: 0.6240 - 9s/epoch - 141ms/step\n",
      "Epoch 6/20\n",
      "16/16 [==============================] - 0s 11ms/step\n",
      "63/63 - 7s - loss: 0.5728 - accuracy: 0.7780 - val_loss: 0.9233 - val_accuracy: 0.6340 - 7s/epoch - 105ms/step\n",
      "Epoch 7/20\n",
      "16/16 [==============================] - 0s 11ms/step\n",
      "63/63 - 5s - loss: 0.4932 - accuracy: 0.8112 - val_loss: 0.9192 - val_accuracy: 0.6800 - 5s/epoch - 76ms/step\n",
      "Epoch 8/20\n",
      "16/16 [==============================] - 0s 11ms/step\n",
      "63/63 - 5s - loss: 0.4429 - accuracy: 0.8357 - val_loss: 0.8855 - val_accuracy: 0.6900 - 5s/epoch - 76ms/step\n",
      "Epoch 9/20\n",
      "16/16 [==============================] - 0s 11ms/step\n",
      "63/63 - 5s - loss: 0.4057 - accuracy: 0.8514 - val_loss: 0.8507 - val_accuracy: 0.6920 - 5s/epoch - 78ms/step\n",
      "Epoch 10/20\n",
      "16/16 [==============================] - 0s 11ms/step\n",
      "63/63 - 5s - loss: 0.3810 - accuracy: 0.8671 - val_loss: 0.8883 - val_accuracy: 0.6580 - 5s/epoch - 76ms/step\n",
      "Epoch 11/20\n",
      "16/16 [==============================] - 0s 11ms/step\n",
      "63/63 - 5s - loss: 0.3374 - accuracy: 0.8814 - val_loss: 0.9380 - val_accuracy: 0.6920 - 5s/epoch - 76ms/step\n",
      "16/16 [==============================] - 0s 11ms/step - loss: 0.8507 - accuracy: 0.6920\n",
      "INFO:tensorflow:Assets written to: saved_models\\Model 1\\Run-1\\assets\n"
     ]
    },
    {
     "name": "stderr",
     "output_type": "stream",
     "text": [
      "INFO:tensorflow:Assets written to: saved_models\\Model 1\\Run-1\\assets\n"
     ]
    },
    {
     "name": "stdout",
     "output_type": "stream",
     "text": [
      "--- Starting trial: run-2\n",
      "{'filter_size': 3, 'filters_number': 64}\n",
      "Epoch 1/20\n",
      "16/16 [==============================] - 0s 20ms/step\n",
      "63/63 - 9s - loss: 5.8289 - accuracy: 0.4620 - val_loss: 1.0570 - val_accuracy: 0.5760 - 9s/epoch - 141ms/step\n",
      "Epoch 2/20\n",
      "16/16 [==============================] - 0s 21ms/step\n",
      "63/63 - 9s - loss: 0.8782 - accuracy: 0.6596 - val_loss: 0.9697 - val_accuracy: 0.6300 - 9s/epoch - 137ms/step\n",
      "Epoch 3/20\n",
      "16/16 [==============================] - 0s 23ms/step\n",
      "63/63 - 9s - loss: 0.7525 - accuracy: 0.7058 - val_loss: 0.8430 - val_accuracy: 0.6820 - 9s/epoch - 138ms/step\n",
      "Epoch 4/20\n",
      "16/16 [==============================] - 0s 22ms/step\n",
      "63/63 - 9s - loss: 0.6559 - accuracy: 0.7550 - val_loss: 0.8658 - val_accuracy: 0.6880 - 9s/epoch - 141ms/step\n",
      "Epoch 5/20\n",
      "16/16 [==============================] - 0s 21ms/step\n",
      "63/63 - 9s - loss: 0.6071 - accuracy: 0.7685 - val_loss: 0.7866 - val_accuracy: 0.7080 - 9s/epoch - 140ms/step\n",
      "Epoch 6/20\n",
      "16/16 [==============================] - 0s 22ms/step\n",
      "63/63 - 9s - loss: 0.5323 - accuracy: 0.8027 - val_loss: 0.8009 - val_accuracy: 0.6840 - 9s/epoch - 138ms/step\n",
      "Epoch 7/20\n",
      "16/16 [==============================] - 0s 21ms/step\n",
      "63/63 - 9s - loss: 0.4718 - accuracy: 0.8284 - val_loss: 0.8115 - val_accuracy: 0.6980 - 9s/epoch - 138ms/step\n",
      "16/16 [==============================] - 0s 22ms/step - loss: 0.7866 - accuracy: 0.7080\n",
      "INFO:tensorflow:Assets written to: saved_models\\Model 1\\Run-2\\assets\n"
     ]
    },
    {
     "name": "stderr",
     "output_type": "stream",
     "text": [
      "INFO:tensorflow:Assets written to: saved_models\\Model 1\\Run-2\\assets\n"
     ]
    },
    {
     "name": "stdout",
     "output_type": "stream",
     "text": [
      "--- Starting trial: run-3\n",
      "{'filter_size': 3, 'filters_number': 96}\n",
      "Epoch 1/20\n",
      "16/16 [==============================] - 1s 33ms/step\n",
      "63/63 - 13s - loss: 5.7962 - accuracy: 0.4633 - val_loss: 1.0573 - val_accuracy: 0.5940 - 13s/epoch - 209ms/step\n",
      "Epoch 2/20\n",
      "16/16 [==============================] - 1s 32ms/step\n",
      "63/63 - 13s - loss: 0.9018 - accuracy: 0.6446 - val_loss: 0.9720 - val_accuracy: 0.5980 - 13s/epoch - 204ms/step\n",
      "Epoch 3/20\n",
      "16/16 [==============================] - 1s 33ms/step\n",
      "63/63 - 13s - loss: 0.7650 - accuracy: 0.6966 - val_loss: 0.9825 - val_accuracy: 0.6420 - 13s/epoch - 204ms/step\n",
      "Epoch 4/20\n",
      "16/16 [==============================] - 1s 33ms/step\n",
      "63/63 - 13s - loss: 0.6595 - accuracy: 0.7507 - val_loss: 0.9982 - val_accuracy: 0.6340 - 13s/epoch - 203ms/step\n",
      "16/16 [==============================] - 1s 33ms/step - loss: 0.9720 - accuracy: 0.5980\n",
      "INFO:tensorflow:Assets written to: saved_models\\Model 1\\Run-3\\assets\n"
     ]
    },
    {
     "name": "stderr",
     "output_type": "stream",
     "text": [
      "INFO:tensorflow:Assets written to: saved_models\\Model 1\\Run-3\\assets\n"
     ]
    },
    {
     "name": "stdout",
     "output_type": "stream",
     "text": [
      "--- Starting trial: run-4\n",
      "{'filter_size': 3, 'filters_number': 128}\n",
      "Epoch 1/20\n",
      "16/16 [==============================] - 1s 45ms/step\n",
      "63/63 - 18s - loss: 8.4182 - accuracy: 0.4743 - val_loss: 1.0741 - val_accuracy: 0.5800 - 18s/epoch - 283ms/step\n",
      "Epoch 2/20\n",
      "16/16 [==============================] - 1s 44ms/step\n",
      "63/63 - 17s - loss: 0.8709 - accuracy: 0.6588 - val_loss: 0.9656 - val_accuracy: 0.6000 - 17s/epoch - 275ms/step\n",
      "Epoch 3/20\n",
      "16/16 [==============================] - 1s 45ms/step\n",
      "63/63 - 17s - loss: 0.7579 - accuracy: 0.7050 - val_loss: 0.9378 - val_accuracy: 0.6360 - 17s/epoch - 275ms/step\n",
      "Epoch 4/20\n",
      "16/16 [==============================] - 1s 45ms/step\n",
      "63/63 - 17s - loss: 0.6654 - accuracy: 0.7505 - val_loss: 0.9457 - val_accuracy: 0.6120 - 17s/epoch - 275ms/step\n",
      "Epoch 5/20\n",
      "16/16 [==============================] - 1s 45ms/step\n",
      "63/63 - 17s - loss: 0.5634 - accuracy: 0.7877 - val_loss: 0.8355 - val_accuracy: 0.6720 - 17s/epoch - 274ms/step\n",
      "Epoch 6/20\n",
      "16/16 [==============================] - 1s 45ms/step\n",
      "63/63 - 17s - loss: 0.5257 - accuracy: 0.8014 - val_loss: 0.8647 - val_accuracy: 0.6740 - 17s/epoch - 276ms/step\n",
      "Epoch 7/20\n",
      "16/16 [==============================] - 1s 47ms/step\n",
      "63/63 - 17s - loss: 0.4487 - accuracy: 0.8357 - val_loss: 0.8940 - val_accuracy: 0.6760 - 17s/epoch - 274ms/step\n",
      "16/16 [==============================] - 1s 47ms/step - loss: 0.8355 - accuracy: 0.6720\n",
      "INFO:tensorflow:Assets written to: saved_models\\Model 1\\Run-4\\assets\n"
     ]
    },
    {
     "name": "stderr",
     "output_type": "stream",
     "text": [
      "INFO:tensorflow:Assets written to: saved_models\\Model 1\\Run-4\\assets\n"
     ]
    },
    {
     "name": "stdout",
     "output_type": "stream",
     "text": [
      "--- Starting trial: run-5\n",
      "{'filter_size': 5, 'filters_number': 32}\n",
      "Epoch 1/20\n",
      "16/16 [==============================] - 0s 12ms/step\n",
      "63/63 - 6s - loss: 4.1754 - accuracy: 0.4698 - val_loss: 1.0692 - val_accuracy: 0.5820 - 6s/epoch - 98ms/step\n",
      "Epoch 2/20\n",
      "16/16 [==============================] - 0s 12ms/step\n",
      "63/63 - 6s - loss: 0.9645 - accuracy: 0.6271 - val_loss: 1.0198 - val_accuracy: 0.6140 - 6s/epoch - 91ms/step\n",
      "Epoch 3/20\n",
      "16/16 [==============================] - 0s 12ms/step\n",
      "63/63 - 6s - loss: 0.8493 - accuracy: 0.6616 - val_loss: 0.9446 - val_accuracy: 0.6400 - 6s/epoch - 89ms/step\n",
      "Epoch 4/20\n",
      "16/16 [==============================] - 0s 12ms/step\n",
      "63/63 - 6s - loss: 0.7407 - accuracy: 0.7113 - val_loss: 0.8997 - val_accuracy: 0.6460 - 6s/epoch - 88ms/step\n",
      "Epoch 5/20\n",
      "16/16 [==============================] - 0s 12ms/step\n",
      "63/63 - 6s - loss: 0.7004 - accuracy: 0.7328 - val_loss: 0.9064 - val_accuracy: 0.6400 - 6s/epoch - 88ms/step\n",
      "Epoch 6/20\n",
      "16/16 [==============================] - 0s 12ms/step\n",
      "63/63 - 6s - loss: 0.6292 - accuracy: 0.7470 - val_loss: 0.8481 - val_accuracy: 0.6740 - 6s/epoch - 88ms/step\n",
      "Epoch 7/20\n",
      "16/16 [==============================] - 0s 12ms/step\n",
      "63/63 - 6s - loss: 0.5725 - accuracy: 0.7865 - val_loss: 0.8319 - val_accuracy: 0.7120 - 6s/epoch - 88ms/step\n",
      "Epoch 8/20\n",
      "16/16 [==============================] - 0s 12ms/step\n",
      "63/63 - 6s - loss: 0.5212 - accuracy: 0.8069 - val_loss: 0.8745 - val_accuracy: 0.6980 - 6s/epoch - 88ms/step\n",
      "Epoch 9/20\n",
      "16/16 [==============================] - 0s 12ms/step\n",
      "63/63 - 6s - loss: 0.4826 - accuracy: 0.8184 - val_loss: 0.8582 - val_accuracy: 0.6960 - 6s/epoch - 88ms/step\n",
      "16/16 [==============================] - 0s 12ms/step - loss: 0.8319 - accuracy: 0.7120\n",
      "INFO:tensorflow:Assets written to: saved_models\\Model 1\\Run-5\\assets\n"
     ]
    },
    {
     "name": "stderr",
     "output_type": "stream",
     "text": [
      "INFO:tensorflow:Assets written to: saved_models\\Model 1\\Run-5\\assets\n"
     ]
    },
    {
     "name": "stdout",
     "output_type": "stream",
     "text": [
      "--- Starting trial: run-6\n",
      "{'filter_size': 5, 'filters_number': 64}\n",
      "Epoch 1/20\n",
      "16/16 [==============================] - 0s 20ms/step\n",
      "63/63 - 10s - loss: 2.8122 - accuracy: 0.4530 - val_loss: 1.1031 - val_accuracy: 0.5560 - 10s/epoch - 155ms/step\n",
      "Epoch 2/20\n",
      "16/16 [==============================] - 0s 20ms/step\n",
      "63/63 - 9s - loss: 0.9457 - accuracy: 0.6296 - val_loss: 1.0708 - val_accuracy: 0.5500 - 9s/epoch - 147ms/step\n",
      "Epoch 3/20\n",
      "16/16 [==============================] - 0s 20ms/step\n",
      "63/63 - 9s - loss: 0.8084 - accuracy: 0.6951 - val_loss: 0.9120 - val_accuracy: 0.6420 - 9s/epoch - 147ms/step\n",
      "Epoch 4/20\n",
      "16/16 [==============================] - 0s 20ms/step\n",
      "63/63 - 9s - loss: 0.7171 - accuracy: 0.7220 - val_loss: 0.9121 - val_accuracy: 0.6620 - 9s/epoch - 147ms/step\n",
      "Epoch 5/20\n",
      "16/16 [==============================] - 0s 19ms/step\n",
      "63/63 - 10s - loss: 0.6739 - accuracy: 0.7370 - val_loss: 0.8794 - val_accuracy: 0.6600 - 10s/epoch - 152ms/step\n",
      "Epoch 6/20\n",
      "16/16 [==============================] - 0s 19ms/step\n",
      "63/63 - 9s - loss: 0.7467 - accuracy: 0.7365 - val_loss: 0.9195 - val_accuracy: 0.6400 - 9s/epoch - 146ms/step\n",
      "Epoch 7/20\n",
      "16/16 [==============================] - 0s 19ms/step\n",
      "63/63 - 9s - loss: 0.6836 - accuracy: 0.7290 - val_loss: 0.9650 - val_accuracy: 0.6220 - 9s/epoch - 147ms/step\n",
      "16/16 [==============================] - 0s 20ms/step - loss: 0.8794 - accuracy: 0.6600\n",
      "INFO:tensorflow:Assets written to: saved_models\\Model 1\\Run-6\\assets\n"
     ]
    },
    {
     "name": "stderr",
     "output_type": "stream",
     "text": [
      "INFO:tensorflow:Assets written to: saved_models\\Model 1\\Run-6\\assets\n"
     ]
    },
    {
     "name": "stdout",
     "output_type": "stream",
     "text": [
      "--- Starting trial: run-7\n",
      "{'filter_size': 5, 'filters_number': 96}\n",
      "Epoch 1/20\n",
      "16/16 [==============================] - 0s 28ms/step\n",
      "63/63 - 14s - loss: 3.6168 - accuracy: 0.4323 - val_loss: 1.8202 - val_accuracy: 0.3780 - 14s/epoch - 219ms/step\n",
      "Epoch 2/20\n",
      "16/16 [==============================] - 1s 32ms/step\n",
      "63/63 - 14s - loss: 0.9443 - accuracy: 0.6261 - val_loss: 0.9581 - val_accuracy: 0.6480 - 14s/epoch - 220ms/step\n",
      "Epoch 3/20\n",
      "16/16 [==============================] - 1s 32ms/step\n",
      "63/63 - 14s - loss: 0.8265 - accuracy: 0.6781 - val_loss: 0.8555 - val_accuracy: 0.6480 - 14s/epoch - 222ms/step\n",
      "Epoch 4/20\n",
      "16/16 [==============================] - 1s 31ms/step\n",
      "63/63 - 14s - loss: 0.7336 - accuracy: 0.7145 - val_loss: 0.9130 - val_accuracy: 0.6420 - 14s/epoch - 219ms/step\n",
      "Epoch 5/20\n",
      "16/16 [==============================] - 1s 31ms/step\n",
      "63/63 - 14s - loss: 0.6937 - accuracy: 0.7388 - val_loss: 0.8393 - val_accuracy: 0.6780 - 14s/epoch - 220ms/step\n",
      "Epoch 6/20\n",
      "16/16 [==============================] - 1s 32ms/step\n",
      "63/63 - 15s - loss: 0.6429 - accuracy: 0.7502 - val_loss: 0.8314 - val_accuracy: 0.6720 - 15s/epoch - 231ms/step\n",
      "Epoch 7/20\n",
      "16/16 [==============================] - 1s 32ms/step\n",
      "63/63 - 14s - loss: 0.5833 - accuracy: 0.7767 - val_loss: 0.8044 - val_accuracy: 0.6860 - 14s/epoch - 223ms/step\n",
      "Epoch 8/20\n",
      "16/16 [==============================] - 1s 34ms/step\n",
      "63/63 - 14s - loss: 0.5243 - accuracy: 0.8009 - val_loss: 0.7977 - val_accuracy: 0.7040 - 14s/epoch - 227ms/step\n",
      "Epoch 9/20\n",
      "16/16 [==============================] - 1s 32ms/step\n",
      "63/63 - 14s - loss: 0.4815 - accuracy: 0.8217 - val_loss: 0.8239 - val_accuracy: 0.7120 - 14s/epoch - 229ms/step\n",
      "Epoch 10/20\n",
      "16/16 [==============================] - 1s 31ms/step\n",
      "63/63 - 14s - loss: 0.4496 - accuracy: 0.8334 - val_loss: 0.8357 - val_accuracy: 0.7080 - 14s/epoch - 221ms/step\n",
      "16/16 [==============================] - 1s 32ms/step - loss: 0.7977 - accuracy: 0.7040\n",
      "INFO:tensorflow:Assets written to: saved_models\\Model 1\\Run-7\\assets\n"
     ]
    },
    {
     "name": "stderr",
     "output_type": "stream",
     "text": [
      "INFO:tensorflow:Assets written to: saved_models\\Model 1\\Run-7\\assets\n"
     ]
    },
    {
     "name": "stdout",
     "output_type": "stream",
     "text": [
      "--- Starting trial: run-8\n",
      "{'filter_size': 5, 'filters_number': 128}\n",
      "Epoch 1/20\n",
      "16/16 [==============================] - 1s 39ms/step\n",
      "63/63 - 18s - loss: 4.1746 - accuracy: 0.4358 - val_loss: 1.2294 - val_accuracy: 0.4560 - 18s/epoch - 286ms/step\n",
      "Epoch 2/20\n",
      "16/16 [==============================] - 1s 38ms/step\n",
      "63/63 - 18s - loss: 0.9859 - accuracy: 0.6079 - val_loss: 0.9621 - val_accuracy: 0.6320 - 18s/epoch - 280ms/step\n",
      "Epoch 3/20\n",
      "16/16 [==============================] - 1s 39ms/step\n",
      "63/63 - 18s - loss: 0.8506 - accuracy: 0.6616 - val_loss: 0.9066 - val_accuracy: 0.6200 - 18s/epoch - 282ms/step\n",
      "Epoch 4/20\n",
      "16/16 [==============================] - 1s 38ms/step\n",
      "63/63 - 17s - loss: 0.7438 - accuracy: 0.7025 - val_loss: 0.8491 - val_accuracy: 0.6700 - 17s/epoch - 277ms/step\n",
      "Epoch 5/20\n",
      "16/16 [==============================] - 1s 37ms/step\n",
      "63/63 - 17s - loss: 0.6867 - accuracy: 0.7315 - val_loss: 0.9023 - val_accuracy: 0.6460 - 17s/epoch - 277ms/step\n",
      "Epoch 6/20\n",
      "16/16 [==============================] - 1s 38ms/step\n",
      "63/63 - 18s - loss: 0.6602 - accuracy: 0.7338 - val_loss: 0.9844 - val_accuracy: 0.6140 - 18s/epoch - 283ms/step\n",
      "16/16 [==============================] - 1s 38ms/step - loss: 0.8491 - accuracy: 0.6700\n",
      "INFO:tensorflow:Assets written to: saved_models\\Model 1\\Run-8\\assets\n"
     ]
    },
    {
     "name": "stderr",
     "output_type": "stream",
     "text": [
      "INFO:tensorflow:Assets written to: saved_models\\Model 1\\Run-8\\assets\n"
     ]
    },
    {
     "name": "stdout",
     "output_type": "stream",
     "text": [
      "--- Starting trial: run-9\n",
      "{'filter_size': 7, 'filters_number': 32}\n",
      "Epoch 1/20\n",
      "16/16 [==============================] - 0s 13ms/step\n",
      "63/63 - 7s - loss: 1.8880 - accuracy: 0.4388 - val_loss: 1.1629 - val_accuracy: 0.4800 - 7s/epoch - 115ms/step\n",
      "Epoch 2/20\n",
      "16/16 [==============================] - 0s 13ms/step\n",
      "63/63 - 7s - loss: 1.0006 - accuracy: 0.6044 - val_loss: 1.0130 - val_accuracy: 0.6120 - 7s/epoch - 107ms/step\n",
      "Epoch 3/20\n",
      "16/16 [==============================] - 0s 13ms/step\n",
      "63/63 - 7s - loss: 0.8323 - accuracy: 0.6686 - val_loss: 0.9324 - val_accuracy: 0.6140 - 7s/epoch - 108ms/step\n",
      "Epoch 4/20\n",
      "16/16 [==============================] - 0s 14ms/step\n",
      "63/63 - 7s - loss: 0.7487 - accuracy: 0.7043 - val_loss: 0.8772 - val_accuracy: 0.6440 - 7s/epoch - 110ms/step\n",
      "Epoch 5/20\n",
      "16/16 [==============================] - 0s 13ms/step\n",
      "63/63 - 7s - loss: 0.7198 - accuracy: 0.7160 - val_loss: 0.9068 - val_accuracy: 0.6320 - 7s/epoch - 112ms/step\n",
      "Epoch 6/20\n",
      "16/16 [==============================] - 0s 13ms/step\n",
      "63/63 - 7s - loss: 0.6516 - accuracy: 0.7455 - val_loss: 0.8576 - val_accuracy: 0.6660 - 7s/epoch - 109ms/step\n",
      "Epoch 7/20\n",
      "16/16 [==============================] - 0s 13ms/step\n",
      "63/63 - 7s - loss: 0.6048 - accuracy: 0.7637 - val_loss: 0.8880 - val_accuracy: 0.6820 - 7s/epoch - 111ms/step\n",
      "Epoch 8/20\n",
      "16/16 [==============================] - 0s 13ms/step\n",
      "63/63 - 7s - loss: 0.5682 - accuracy: 0.7752 - val_loss: 0.8319 - val_accuracy: 0.6860 - 7s/epoch - 112ms/step\n",
      "Epoch 9/20\n",
      "16/16 [==============================] - 0s 14ms/step\n",
      "63/63 - 7s - loss: 0.5616 - accuracy: 0.7797 - val_loss: 0.9123 - val_accuracy: 0.6680 - 7s/epoch - 110ms/step\n",
      "Epoch 10/20\n",
      "16/16 [==============================] - 0s 14ms/step\n",
      "63/63 - 7s - loss: 0.5539 - accuracy: 0.7815 - val_loss: 0.8709 - val_accuracy: 0.6900 - 7s/epoch - 110ms/step\n",
      "16/16 [==============================] - 0s 14ms/step - loss: 0.8319 - accuracy: 0.6860\n",
      "INFO:tensorflow:Assets written to: saved_models\\Model 1\\Run-9\\assets\n"
     ]
    },
    {
     "name": "stderr",
     "output_type": "stream",
     "text": [
      "INFO:tensorflow:Assets written to: saved_models\\Model 1\\Run-9\\assets\n"
     ]
    },
    {
     "name": "stdout",
     "output_type": "stream",
     "text": [
      "--- Starting trial: run-10\n",
      "{'filter_size': 7, 'filters_number': 64}\n",
      "Epoch 1/20\n",
      "16/16 [==============================] - 0s 24ms/step\n",
      "63/63 - 14s - loss: 2.9105 - accuracy: 0.4653 - val_loss: 1.2740 - val_accuracy: 0.4420 - 14s/epoch - 215ms/step\n",
      "Epoch 2/20\n",
      "16/16 [==============================] - 0s 24ms/step\n",
      "63/63 - 13s - loss: 1.1872 - accuracy: 0.5385 - val_loss: 1.0547 - val_accuracy: 0.6060 - 13s/epoch - 205ms/step\n",
      "Epoch 3/20\n",
      "16/16 [==============================] - 0s 23ms/step\n",
      "63/63 - 13s - loss: 0.9077 - accuracy: 0.6466 - val_loss: 0.9443 - val_accuracy: 0.6200 - 13s/epoch - 204ms/step\n",
      "Epoch 4/20\n",
      "16/16 [==============================] - 0s 24ms/step\n",
      "63/63 - 13s - loss: 0.8507 - accuracy: 0.6686 - val_loss: 1.1018 - val_accuracy: 0.5100 - 13s/epoch - 204ms/step\n",
      "Epoch 5/20\n",
      "16/16 [==============================] - 0s 23ms/step\n",
      "63/63 - 13s - loss: 0.8280 - accuracy: 0.6691 - val_loss: 0.8781 - val_accuracy: 0.6680 - 13s/epoch - 201ms/step\n",
      "Epoch 6/20\n",
      "16/16 [==============================] - 0s 23ms/step\n",
      "63/63 - 13s - loss: 0.7005 - accuracy: 0.7260 - val_loss: 0.9097 - val_accuracy: 0.6560 - 13s/epoch - 205ms/step\n",
      "Epoch 7/20\n",
      "16/16 [==============================] - 0s 23ms/step\n",
      "63/63 - 13s - loss: 0.7047 - accuracy: 0.7260 - val_loss: 0.9727 - val_accuracy: 0.5980 - 13s/epoch - 204ms/step\n",
      "16/16 [==============================] - 0s 24ms/step - loss: 0.8781 - accuracy: 0.6680\n",
      "INFO:tensorflow:Assets written to: saved_models\\Model 1\\Run-10\\assets\n"
     ]
    },
    {
     "name": "stderr",
     "output_type": "stream",
     "text": [
      "INFO:tensorflow:Assets written to: saved_models\\Model 1\\Run-10\\assets\n"
     ]
    },
    {
     "name": "stdout",
     "output_type": "stream",
     "text": [
      "--- Starting trial: run-11\n",
      "{'filter_size': 7, 'filters_number': 96}\n",
      "Epoch 1/20\n",
      "16/16 [==============================] - 1s 33ms/step\n",
      "63/63 - 17s - loss: 3.1166 - accuracy: 0.4615 - val_loss: 1.1737 - val_accuracy: 0.5200 - 17s/epoch - 264ms/step\n",
      "Epoch 2/20\n",
      "16/16 [==============================] - 1s 34ms/step\n",
      "63/63 - 17s - loss: 1.0717 - accuracy: 0.5594 - val_loss: 1.0906 - val_accuracy: 0.5940 - 17s/epoch - 272ms/step\n",
      "Epoch 3/20\n",
      "16/16 [==============================] - 1s 32ms/step\n",
      "63/63 - 17s - loss: 1.0958 - accuracy: 0.5737 - val_loss: 0.9808 - val_accuracy: 0.5780 - 17s/epoch - 263ms/step\n",
      "Epoch 4/20\n",
      "16/16 [==============================] - 1s 31ms/step\n",
      "63/63 - 16s - loss: 0.8544 - accuracy: 0.6661 - val_loss: 0.9263 - val_accuracy: 0.6720 - 16s/epoch - 260ms/step\n",
      "Epoch 5/20\n",
      "16/16 [==============================] - 1s 31ms/step\n",
      "63/63 - 16s - loss: 0.7907 - accuracy: 0.6911 - val_loss: 0.9997 - val_accuracy: 0.5940 - 16s/epoch - 251ms/step\n",
      "Epoch 6/20\n",
      "16/16 [==============================] - 1s 31ms/step\n",
      "63/63 - 16s - loss: 0.8888 - accuracy: 0.6531 - val_loss: 1.0217 - val_accuracy: 0.6160 - 16s/epoch - 252ms/step\n",
      "16/16 [==============================] - 1s 32ms/step - loss: 0.9263 - accuracy: 0.6720\n",
      "INFO:tensorflow:Assets written to: saved_models\\Model 1\\Run-11\\assets\n"
     ]
    },
    {
     "name": "stderr",
     "output_type": "stream",
     "text": [
      "INFO:tensorflow:Assets written to: saved_models\\Model 1\\Run-11\\assets\n"
     ]
    },
    {
     "name": "stdout",
     "output_type": "stream",
     "text": [
      "--- Starting trial: run-12\n",
      "{'filter_size': 7, 'filters_number': 128}\n",
      "Epoch 1/20\n",
      "16/16 [==============================] - 1s 39ms/step\n",
      "63/63 - 21s - loss: 4.1605 - accuracy: 0.3969 - val_loss: 1.2334 - val_accuracy: 0.4400 - 21s/epoch - 328ms/step\n",
      "Epoch 2/20\n",
      "16/16 [==============================] - 1s 38ms/step\n",
      "63/63 - 20s - loss: 1.0752 - accuracy: 0.5699 - val_loss: 0.9963 - val_accuracy: 0.6220 - 20s/epoch - 316ms/step\n",
      "Epoch 3/20\n",
      "16/16 [==============================] - 1s 38ms/step\n",
      "63/63 - 20s - loss: 0.8409 - accuracy: 0.6731 - val_loss: 0.8834 - val_accuracy: 0.6480 - 20s/epoch - 316ms/step\n",
      "Epoch 4/20\n",
      "16/16 [==============================] - 1s 39ms/step\n",
      "63/63 - 20s - loss: 0.8049 - accuracy: 0.6748 - val_loss: 1.0217 - val_accuracy: 0.5840 - 20s/epoch - 321ms/step\n",
      "Epoch 5/20\n",
      "16/16 [==============================] - 1s 38ms/step\n",
      "63/63 - 20s - loss: 0.7374 - accuracy: 0.7118 - val_loss: 0.9078 - val_accuracy: 0.6520 - 20s/epoch - 322ms/step\n",
      "16/16 [==============================] - 1s 38ms/step - loss: 0.8834 - accuracy: 0.6480\n",
      "INFO:tensorflow:Assets written to: saved_models\\Model 1\\Run-12\\assets\n"
     ]
    },
    {
     "name": "stderr",
     "output_type": "stream",
     "text": [
      "INFO:tensorflow:Assets written to: saved_models\\Model 1\\Run-12\\assets\n"
     ]
    }
   ],
   "source": [
    "session_num = 1\n",
    "\n",
    "for filter_size in HP_FILTER_SIZE.domain.values:\n",
    "    for filter_num in HP_FILTER_NUM.domain.values:\n",
    "\n",
    "        hparams = {\n",
    "            HP_FILTER_SIZE: filter_size,\n",
    "            HP_FILTER_NUM: filter_num\n",
    "        }\n",
    "\n",
    "        run_name = \"run-%d\" % session_num\n",
    "        print('--- Starting trial: %s' % run_name)\n",
    "        print({h.name: hparams[h] for h in hparams})\n",
    "        run('Logs/Model 1/hparam_tuning/' + run_name, hparams, session_num)\n",
    "\n",
    "        session_num += 1"
   ]
  },
  {
   "cell_type": "code",
   "execution_count": null,
   "metadata": {},
   "outputs": [],
   "source": []
  },
  {
   "cell_type": "code",
   "execution_count": 19,
   "metadata": {},
   "outputs": [],
   "source": [
    "# Loading a model to evaluate on the test set\n",
    "model = tf.keras.models.load_model(r\"saved_models\\Model 1\\Run-1\")"
   ]
  },
  {
   "cell_type": "code",
   "execution_count": 21,
   "metadata": {},
   "outputs": [
    {
     "name": "stdout",
     "output_type": "stream",
     "text": [
      "16/16 [==============================] - 0s 12ms/step - loss: 0.8332 - accuracy: 0.7260\n"
     ]
    }
   ],
   "source": [
    "test_loss, test_accuracy = model.evaluate(images_test,labels_test)"
   ]
  },
  {
   "cell_type": "code",
   "execution_count": 23,
   "metadata": {},
   "outputs": [
    {
     "name": "stdout",
     "output_type": "stream",
     "text": [
      "Test loss: 0.8332. Test accuracy: 72.60%\n"
     ]
    }
   ],
   "source": [
    "# Printing the test results\n",
    "print('Test loss: {0:.4f}. Test accuracy: {1:.2f}%'.format(test_loss, test_accuracy*100.))"
   ]
  },
  {
   "cell_type": "code",
   "execution_count": 7,
   "metadata": {},
   "outputs": [],
   "source": [
    "%load_ext tensorboard"
   ]
  },
  {
   "cell_type": "code",
   "execution_count": 11,
   "metadata": {},
   "outputs": [
    {
     "data": {
      "text/html": [
       "\n",
       "      <iframe id=\"tensorboard-frame-e299f7e319bd796e\" width=\"100%\" height=\"800\" frameborder=\"0\">\n",
       "      </iframe>\n",
       "      <script>\n",
       "        (function() {\n",
       "          const frame = document.getElementById(\"tensorboard-frame-e299f7e319bd796e\");\n",
       "          const url = new URL(\"/\", window.location);\n",
       "          const port = 6008;\n",
       "          if (port) {\n",
       "            url.port = port;\n",
       "          }\n",
       "          frame.src = url;\n",
       "        })();\n",
       "      </script>\n",
       "    "
      ],
      "text/plain": [
       "<IPython.core.display.HTML object>"
      ]
     },
     "metadata": {},
     "output_type": "display_data"
    }
   ],
   "source": [
    "%tensorboard --logdir \"Logs/hparam_tuning\" --port 6008"
   ]
  },
  {
   "cell_type": "code",
   "execution_count": 9,
   "metadata": {},
   "outputs": [
    {
     "data": {
      "text/html": [
       "\n",
       "      <iframe id=\"tensorboard-frame-f16639aa3e22dd8\" width=\"100%\" height=\"800\" frameborder=\"0\">\n",
       "      </iframe>\n",
       "      <script>\n",
       "        (function() {\n",
       "          const frame = document.getElementById(\"tensorboard-frame-f16639aa3e22dd8\");\n",
       "          const url = new URL(\"/\", window.location);\n",
       "          const port = 6007;\n",
       "          if (port) {\n",
       "            url.port = port;\n",
       "          }\n",
       "          frame.src = url;\n",
       "        })();\n",
       "      </script>\n",
       "    "
      ],
      "text/plain": [
       "<IPython.core.display.HTML object>"
      ]
     },
     "metadata": {},
     "output_type": "display_data"
    }
   ],
   "source": [
    "%tensorboard --logdir \"Logs/fit\" --port 6007"
   ]
  },
  {
   "cell_type": "code",
   "execution_count": 45,
   "metadata": {},
   "outputs": [
    {
     "data": {
      "text/html": [
       "\n",
       "      <iframe id=\"tensorboard-frame-9a03b6d348a87238\" width=\"100%\" height=\"800\" frameborder=\"0\">\n",
       "      </iframe>\n",
       "      <script>\n",
       "        (function() {\n",
       "          const frame = document.getElementById(\"tensorboard-frame-9a03b6d348a87238\");\n",
       "          const url = new URL(\"/\", window.location);\n",
       "          const port = 6008;\n",
       "          if (port) {\n",
       "            url.port = port;\n",
       "          }\n",
       "          frame.src = url;\n",
       "        })();\n",
       "      </script>\n",
       "    "
      ],
      "text/plain": [
       "<IPython.core.display.HTML object>"
      ]
     },
     "metadata": {},
     "output_type": "display_data"
    }
   ],
   "source": [
    "%tensorboard --logdir \"Logs/Model 1/fit\" --port 6008"
   ]
  },
  {
   "cell_type": "code",
   "execution_count": null,
   "metadata": {},
   "outputs": [],
   "source": []
  },
  {
   "cell_type": "code",
   "execution_count": null,
   "metadata": {},
   "outputs": [],
   "source": []
  }
 ],
 "metadata": {
  "kernelspec": {
   "display_name": "Python 3 (ipykernel)",
   "language": "python",
   "name": "python3"
  },
  "language_info": {
   "codemirror_mode": {
    "name": "ipython",
    "version": 3
   },
   "file_extension": ".py",
   "mimetype": "text/x-python",
   "name": "python",
   "nbconvert_exporter": "python",
   "pygments_lexer": "ipython3",
   "version": "3.11.9"
  }
 },
 "nbformat": 4,
 "nbformat_minor": 4
}
